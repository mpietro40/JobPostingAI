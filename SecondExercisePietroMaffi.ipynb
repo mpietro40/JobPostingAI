{
 "cells": [
  {
   "cell_type": "code",
   "execution_count": 5,
   "metadata": {},
   "outputs": [],
   "source": [
    "#Check folder\n",
    "import os\n",
    "\n",
    "import pandas as pd\n",
    "from sklearn.feature_extraction.text import TfidfVectorizer\n",
    "from sklearn.metrics.pairwise import cosine_similarity\n",
    "import matplotlib.pyplot as plt\n",
    "# enable plotting with jupyter\n",
    "%matplotlib inline"
   ]
  },
  {
   "cell_type": "code",
   "execution_count": 7,
   "metadata": {},
   "outputs": [
    {
     "name": "stdout",
     "output_type": "stream",
     "text": [
      "/Users/mpietro/projects/manning/resume-job-posting-nlp-project\n"
     ]
    },
    {
     "data": {
      "text/html": [
       "<div>\n",
       "<style scoped>\n",
       "    .dataframe tbody tr th:only-of-type {\n",
       "        vertical-align: middle;\n",
       "    }\n",
       "\n",
       "    .dataframe tbody tr th {\n",
       "        vertical-align: top;\n",
       "    }\n",
       "\n",
       "    .dataframe thead th {\n",
       "        text-align: right;\n",
       "    }\n",
       "</style>\n",
       "<table border=\"1\" class=\"dataframe\">\n",
       "  <thead>\n",
       "    <tr style=\"text-align: right;\">\n",
       "      <th></th>\n",
       "      <th>title</th>\n",
       "      <th>body</th>\n",
       "      <th>bullets</th>\n",
       "    </tr>\n",
       "  </thead>\n",
       "  <tbody>\n",
       "    <tr>\n",
       "      <td>0</td>\n",
       "      <td>Quantitative Analyst - Boston, MA 02116</td>\n",
       "      <td>Quantitative Analyst - Boston, MA 02116\\nQuant...</td>\n",
       "      <td>()</td>\n",
       "    </tr>\n",
       "    <tr>\n",
       "      <td>1</td>\n",
       "      <td>Data Scientist - Mountain View, CA</td>\n",
       "      <td>Data Scientist - Mountain View, CA\\nGroundTrut...</td>\n",
       "      <td>(Help senior members of the team to explore, d...</td>\n",
       "    </tr>\n",
       "    <tr>\n",
       "      <td>2</td>\n",
       "      <td>Data Scientist - Seattle, WA</td>\n",
       "      <td>Data Scientist - Seattle, WA\\nA Bachelor or Ma...</td>\n",
       "      <td>(A Bachelor or Masters Degree in a highly quan...</td>\n",
       "    </tr>\n",
       "    <tr>\n",
       "      <td>3</td>\n",
       "      <td>Senior Natural Language Processing (NLP) Engin...</td>\n",
       "      <td>Senior Natural Language Processing (NLP) Engin...</td>\n",
       "      <td>(Join a small team creating a proprietary NLU ...</td>\n",
       "    </tr>\n",
       "    <tr>\n",
       "      <td>4</td>\n",
       "      <td>FLEXO FOLDER GLUER OPER - McClellan, CA - McCl...</td>\n",
       "      <td>FLEXO FOLDER GLUER OPER - McClellan, CA - McCl...</td>\n",
       "      <td>()</td>\n",
       "    </tr>\n",
       "  </tbody>\n",
       "</table>\n",
       "</div>"
      ],
      "text/plain": [
       "                                               title  \\\n",
       "0            Quantitative Analyst - Boston, MA 02116   \n",
       "1                 Data Scientist - Mountain View, CA   \n",
       "2                       Data Scientist - Seattle, WA   \n",
       "3  Senior Natural Language Processing (NLP) Engin...   \n",
       "4  FLEXO FOLDER GLUER OPER - McClellan, CA - McCl...   \n",
       "\n",
       "                                                body  \\\n",
       "0  Quantitative Analyst - Boston, MA 02116\\nQuant...   \n",
       "1  Data Scientist - Mountain View, CA\\nGroundTrut...   \n",
       "2  Data Scientist - Seattle, WA\\nA Bachelor or Ma...   \n",
       "3  Senior Natural Language Processing (NLP) Engin...   \n",
       "4  FLEXO FOLDER GLUER OPER - McClellan, CA - McCl...   \n",
       "\n",
       "                                             bullets  \n",
       "0                                                 ()  \n",
       "1  (Help senior members of the team to explore, d...  \n",
       "2  (A Bachelor or Masters Degree in a highly quan...  \n",
       "3  (Join a small team creating a proprietary NLU ...  \n",
       "4                                                 ()  "
      ]
     },
     "execution_count": 7,
     "metadata": {},
     "output_type": "execute_result"
    }
   ],
   "source": [
    "#Check the correct folder\n",
    "print(os.getcwd())\n",
    "#this should be run only if necessary\n",
    "#os.listdir(os.curdir)\n",
    "#os.chdir('data')\n",
    "\n",
    "df = pd.read_pickle('step1_df.pk')\n",
    "df.head()"
   ]
  },
  {
   "cell_type": "code",
   "execution_count": 9,
   "metadata": {},
   "outputs": [],
   "source": [
    "try:\n",
    "    with open('Liveproject Resume.txt', 'r') as f:\n",
    "        resume = f.read()\n",
    "except:\n",
    "    import inspect\n",
    "    resume = inspect.cleandoc(\"\"\"Good Student\n",
    "        Data Scientist\n",
    "        \n",
    "        Good Student\n",
    "        \n",
    "        123 Fake Street\n",
    "        Some City, QT 12345\n",
    "        123.456.7890\n",
    "        \n",
    "        no_reply@fakesite.com\n",
    "        Skills\n",
    "        Python, Pandas, machine learning, natural language processing\n",
    "        \n",
    "        Experience\n",
    "        \n",
    "        Manning / Data Analyst\n",
    "        Oct 2019 - PRESENT, REMOTE\n",
    "        Analyzed and visualized vast amounts of data using Pandas,Python, and Matplotlib.\n",
    "\n",
    "        Education\n",
    "        \n",
    "        Berkeley / B.S. Mathematics\n",
    "        August 2015 - May 2019, BERKELEY, CA\n",
    "        Graduated summa cum laude.\n",
    "\n",
    "        Awards\n",
    "        \n",
    "        Tau Beta Pi Honors Society\"\"\")\n"
   ]
  },
  {
   "cell_type": "code",
   "execution_count": 10,
   "metadata": {},
   "outputs": [],
   "source": [
    "resume_dict = {'title': 'resume', 'body': resume, 'bullets': ''}"
   ]
  },
  {
   "cell_type": "code",
   "execution_count": 11,
   "metadata": {},
   "outputs": [],
   "source": [
    "df_with_resume = df.append(pd.DataFrame(resume_dict, index=[0]))"
   ]
  },
  {
   "cell_type": "code",
   "execution_count": 12,
   "metadata": {},
   "outputs": [],
   "source": [
    "vectorizer = TfidfVectorizer(stop_words='english')\n",
    "transformed_docs = vectorizer.fit_transform(df_with_resume['body'])"
   ]
  },
  {
   "cell_type": "code",
   "execution_count": 13,
   "metadata": {},
   "outputs": [
    {
     "data": {
      "text/plain": [
       "scipy.sparse.csr.csr_matrix"
      ]
     },
     "execution_count": 13,
     "metadata": {},
     "output_type": "execute_result"
    }
   ],
   "source": [
    "type(transformed_docs)"
   ]
  },
  {
   "cell_type": "code",
   "execution_count": 14,
   "metadata": {},
   "outputs": [],
   "source": [
    "tfidf_jobs = transformed_docs[:-1, :]"
   ]
  },
  {
   "cell_type": "code",
   "execution_count": 15,
   "metadata": {},
   "outputs": [],
   "source": [
    "tfidf_resume = transformed_docs[-1, :]"
   ]
  },
  {
   "cell_type": "code",
   "execution_count": 16,
   "metadata": {},
   "outputs": [
    {
     "data": {
      "text/plain": [
       "(1329, 3)"
      ]
     },
     "execution_count": 16,
     "metadata": {},
     "output_type": "execute_result"
    }
   ],
   "source": [
    "df_with_resume.shape"
   ]
  },
  {
   "cell_type": "code",
   "execution_count": 17,
   "metadata": {},
   "outputs": [
    {
     "data": {
      "text/plain": [
       "(1329, 19015)"
      ]
     },
     "execution_count": 17,
     "metadata": {},
     "output_type": "execute_result"
    }
   ],
   "source": [
    "transformed_docs.shape"
   ]
  },
  {
   "cell_type": "code",
   "execution_count": 18,
   "metadata": {},
   "outputs": [
    {
     "data": {
      "text/plain": [
       "(1328, 19015)"
      ]
     },
     "execution_count": 18,
     "metadata": {},
     "output_type": "execute_result"
    }
   ],
   "source": [
    "tfidf_jobs.shape"
   ]
  },
  {
   "cell_type": "code",
   "execution_count": 19,
   "metadata": {},
   "outputs": [],
   "source": [
    "cos_sims = cosine_similarity(tfidf_jobs, tfidf_resume)"
   ]
  },
  {
   "cell_type": "code",
   "execution_count": 20,
   "metadata": {},
   "outputs": [
    {
     "data": {
      "text/plain": [
       "(1328, 1)"
      ]
     },
     "execution_count": 20,
     "metadata": {},
     "output_type": "execute_result"
    }
   ],
   "source": [
    "cos_sims.shape"
   ]
  },
  {
   "cell_type": "code",
   "execution_count": 21,
   "metadata": {},
   "outputs": [],
   "source": [
    "sorted_df = df.copy()\n",
    "sorted_df['cosine_similarity'] = cos_sims"
   ]
  },
  {
   "cell_type": "code",
   "execution_count": 22,
   "metadata": {},
   "outputs": [
    {
     "data": {
      "text/html": [
       "<div>\n",
       "<style scoped>\n",
       "    .dataframe tbody tr th:only-of-type {\n",
       "        vertical-align: middle;\n",
       "    }\n",
       "\n",
       "    .dataframe tbody tr th {\n",
       "        vertical-align: top;\n",
       "    }\n",
       "\n",
       "    .dataframe thead th {\n",
       "        text-align: right;\n",
       "    }\n",
       "</style>\n",
       "<table border=\"1\" class=\"dataframe\">\n",
       "  <thead>\n",
       "    <tr style=\"text-align: right;\">\n",
       "      <th></th>\n",
       "      <th>title</th>\n",
       "      <th>body</th>\n",
       "      <th>bullets</th>\n",
       "      <th>cosine_similarity</th>\n",
       "    </tr>\n",
       "  </thead>\n",
       "  <tbody>\n",
       "    <tr>\n",
       "      <td>0</td>\n",
       "      <td>Institutional Data and Research Analyst (6948U...</td>\n",
       "      <td>Institutional Data and Research Analyst (6948U...</td>\n",
       "      <td>()</td>\n",
       "      <td>0.143349</td>\n",
       "    </tr>\n",
       "    <tr>\n",
       "      <td>1</td>\n",
       "      <td>Data Science Health Innovation Fellow Job - BI...</td>\n",
       "      <td>Data Science Health Innovation Fellow Job - BI...</td>\n",
       "      <td>(Demonstrated ability to propose, initiate, an...</td>\n",
       "      <td>0.125523</td>\n",
       "    </tr>\n",
       "    <tr>\n",
       "      <td>2</td>\n",
       "      <td>Machine Learning Postdoctoral Fellow - San Fra...</td>\n",
       "      <td>Machine Learning Postdoctoral Fellow - San Fra...</td>\n",
       "      <td>(Design and develop distributed machine learni...</td>\n",
       "      <td>0.121162</td>\n",
       "    </tr>\n",
       "    <tr>\n",
       "      <td>3</td>\n",
       "      <td>Data Analyst (6256U) 1737 - 1737 - Berkeley, C...</td>\n",
       "      <td>Data Analyst (6256U) 1737 - 1737 - Berkeley, C...</td>\n",
       "      <td>()</td>\n",
       "      <td>0.117481</td>\n",
       "    </tr>\n",
       "    <tr>\n",
       "      <td>4</td>\n",
       "      <td>Senior Data Systems Analyst (0599U) - 1668 - 1...</td>\n",
       "      <td>Senior Data Systems Analyst (0599U) - 1668 - 1...</td>\n",
       "      <td>()</td>\n",
       "      <td>0.113083</td>\n",
       "    </tr>\n",
       "  </tbody>\n",
       "</table>\n",
       "</div>"
      ],
      "text/plain": [
       "                                               title  \\\n",
       "0  Institutional Data and Research Analyst (6948U...   \n",
       "1  Data Science Health Innovation Fellow Job - BI...   \n",
       "2  Machine Learning Postdoctoral Fellow - San Fra...   \n",
       "3  Data Analyst (6256U) 1737 - 1737 - Berkeley, C...   \n",
       "4  Senior Data Systems Analyst (0599U) - 1668 - 1...   \n",
       "\n",
       "                                                body  \\\n",
       "0  Institutional Data and Research Analyst (6948U...   \n",
       "1  Data Science Health Innovation Fellow Job - BI...   \n",
       "2  Machine Learning Postdoctoral Fellow - San Fra...   \n",
       "3  Data Analyst (6256U) 1737 - 1737 - Berkeley, C...   \n",
       "4  Senior Data Systems Analyst (0599U) - 1668 - 1...   \n",
       "\n",
       "                                             bullets  cosine_similarity  \n",
       "0                                                 ()           0.143349  \n",
       "1  (Demonstrated ability to propose, initiate, an...           0.125523  \n",
       "2  (Design and develop distributed machine learni...           0.121162  \n",
       "3                                                 ()           0.117481  \n",
       "4                                                 ()           0.113083  "
      ]
     },
     "execution_count": 22,
     "metadata": {},
     "output_type": "execute_result"
    }
   ],
   "source": [
    "sorted_df.sort_values(by='cosine_similarity', ascending=False, inplace=True)\n",
    "# this resets the index\n",
    "sorted_df.reset_index(inplace=True, drop=True)\n",
    "\n",
    "sorted_df.head()"
   ]
  },
  {
   "cell_type": "code",
   "execution_count": 23,
   "metadata": {},
   "outputs": [
    {
     "data": {
      "image/png": "[encoded data removed]",
      "text/plain": [
       "<Figure size 720x432 with 1 Axes>"
      ]
     },
     "metadata": {
      "needs_background": "light"
     },
     "output_type": "display_data"
    }
   ],
   "source": [
    "# change the shape of the plot to fill the page a little better\n",
    "plt.figure(figsize=(10, 6))\n",
    "sorted_df['cosine_similarity'].plot()\n",
    "plt.title('Cosine similarity of job postings to our resume')\n",
    "plt.xlabel('number of job postings')\n",
    "plt.ylabel('cosine similarity')\n",
    "# add a vertical red line at the x value of 100\n",
    "# sending the output of our last plt command to the underscore prevents it from printing text\n",
    "_ = plt.axvline(75, c='r')"
   ]
  },
  {
   "cell_type": "code",
   "execution_count": null,
   "metadata": {},
   "outputs": [],
   "source": []
  }
 ],
 "metadata": {
  "kernelspec": {
   "display_name": "Python 3",
   "language": "python",
   "name": "python3"
  },
  "language_info": {
   "codemirror_mode": {
    "name": "ipython",
    "version": 3
   },
   "file_extension": ".py",
   "mimetype": "text/x-python",
   "name": "python",
   "nbconvert_exporter": "python",
   "pygments_lexer": "ipython3",
   "version": "3.7.4"
  }
 },
 "nbformat": 4,
 "nbformat_minor": 2
}
