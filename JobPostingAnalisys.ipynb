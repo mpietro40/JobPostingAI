{
  "nbformat": 4,
  "nbformat_minor": 0,
  "metadata": {
    "colab": {
      "name": "JobPostingAnalisys.ipynb",
      "provenance": [],
      "authorship_tag": "ABX9TyMP+1s8t1oTf2azs80ILDkD",
      "include_colab_link": true
    },
    "kernelspec": {
      "name": "python3",
      "display_name": "Python 3"
    }
  },
  "cells": [
    {
      "cell_type": "markdown",
      "metadata": {
        "id": "view-in-github",
        "colab_type": "text"
      },
      "source": [
        "<a href=\"https://colab.research.google.com/github/mpietro40/JobPostingAI/blob/master/JobPostingAnalisys.ipynb\" target=\"_parent\"><img src=\"https://colab.research.google.com/assets/colab-badge.svg\" alt=\"Open In Colab\"/></a>"
      ]
    },
    {
      "cell_type": "code",
      "metadata": {
        "id": "AZtEhc_sI9CR",
        "colab_type": "code",
        "colab": {}
      },
      "source": [
        "from lxml import html\n",
        "import requests"
      ],
      "execution_count": 0,
      "outputs": []
    }
  ]
}