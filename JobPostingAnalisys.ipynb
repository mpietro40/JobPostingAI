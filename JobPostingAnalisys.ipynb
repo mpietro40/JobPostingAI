{
  "nbformat": 4,
  "nbformat_minor": 0,
  "metadata": {
    "colab": {
      "name": "JobPostingAnalisys.ipynb",
      "provenance": [],
      "authorship_tag": "ABX9TyO7zOG6Rz1uzt/CE5IFxE7J",
      "include_colab_link": true
    },
    "kernelspec": {
      "name": "python3",
      "display_name": "Python 3"
    }
  },
  "cells": [
    {
      "cell_type": "markdown",
      "metadata": {
        "id": "view-in-github",
        "colab_type": "text"
      },
      "source": [
        "<a href=\"https://colab.research.google.com/github/mpietro40/JobPostingAI/blob/master/JobPostingAnalisys.ipynb\" target=\"_parent\"><img src=\"https://colab.research.google.com/assets/colab-badge.svg\" alt=\"Open In Colab\"/></a>"
      ]
    },
    {
      "cell_type": "code",
      "metadata": {
        "id": "AZtEhc_sI9CR",
        "colab_type": "code",
        "colab": {}
      },
      "source": [
        "from lxml import html\n",
        "import requests"
      ],
      "execution_count": 0,
      "outputs": []
    },
    {
      "cell_type": "code",
      "metadata": {
        "id": "A2OxX10FP60Y",
        "colab_type": "code",
        "colab": {}
      },
      "source": [
        "#import pandas as pd\n",
        "#from google.colab import files\n",
        "#uploaded = files.upload()\n",
        "page = requests.get('http://econpy.pythonanywhere.com/ex/001.html')\n",
        "tree = html.fromstring(page.content)"
      ],
      "execution_count": 0,
      "outputs": []
    },
    {
      "cell_type": "code",
      "metadata": {
        "id": "zJQLBBa-QiUi",
        "colab_type": "code",
        "colab": {
          "base_uri": "https://localhost:8080/",
          "height": 71
        },
        "outputId": "33b050ab-d52c-41ce-c206-aa8ecbb2d2f3"
      },
      "source": [
        "#This will create a list of buyers:\n",
        "buyers = tree.xpath('//div[@title=\"buyer-name\"]/text()')\n",
        "\n",
        "#This will create a list of prices\n",
        "prices = tree.xpath('//span[@class=\"item-price\"]/text()')\n",
        "\n",
        "#Let’s see what we got exactly:\n",
        "print ('Buyers: ', buyers)\n",
        "print ('Prices: ', prices)"
      ],
      "execution_count": 4,
      "outputs": [
        {
          "output_type": "stream",
          "text": [
            "Buyers:  ['Carson Busses', 'Earl E. Byrd', 'Patty Cakes', 'Derri Anne Connecticut', 'Moe Dess', 'Leda Doggslife', 'Dan Druff', 'Al Fresco', 'Ido Hoe', 'Howie Kisses', 'Len Lease', 'Phil Meup', 'Ira Pent', 'Ben D. Rules', 'Ave Sectomy', 'Gary Shattire', 'Bobbi Soks', 'Sheila Takya', 'Rose Tattoo', 'Moe Tell']\n",
            "Prices:  ['$29.95', '$8.37', '$15.26', '$19.25', '$19.25', '$13.99', '$31.57', '$8.49', '$14.47', '$15.86', '$11.11', '$15.98', '$16.27', '$7.50', '$50.85', '$14.26', '$5.68', '$15.00', '$114.07', '$10.09']\n"
          ],
          "name": "stdout"
        }
      ]
    }
  ]
}