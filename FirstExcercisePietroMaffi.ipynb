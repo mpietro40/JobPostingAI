{
 "cells": [
  {
   "cell_type": "code",
   "execution_count": 7,
   "metadata": {},
   "outputs": [],
   "source": [
    "import glob\n",
    "import os\n",
    "\n",
    "import pandas as pd\n",
    "from bs4 import BeautifulSoup as bs\n"
   ]
  },
  {
   "cell_type": "code",
   "execution_count": 22,
   "metadata": {},
   "outputs": [
    {
     "name": "stdout",
     "output_type": "stream",
     "text": [
      "/Users/mpietro/projects/manning/resume-job-posting-nlp-project/data/html_job_postings\n"
     ]
    },
    {
     "data": {
      "text/plain": [
       "1337"
      ]
     },
     "execution_count": 22,
     "metadata": {},
     "output_type": "execute_result"
    }
   ],
   "source": [
    "# which is my path\n",
    "print(os.getcwd())\n",
    "# print folder list\n",
    "# os.listdir(os.curdir)\n",
    "# os.chdir('data')\n",
    "# os.chdir('html_job_postings')\n",
    "# get a list of the files in the html directory\n",
    "files = glob.glob('*.html')\n",
    "len(files)"
   ]
  },
  {
   "cell_type": "code",
   "execution_count": 23,
   "metadata": {},
   "outputs": [],
   "source": [
    "# load HTML pages as text list\n",
    "html_content = []\n",
    "for file in files:\n",
    "    with open(file, 'r') as f:\n",
    "        html_content.append(f.read())"
   ]
  },
  {
   "cell_type": "code",
   "execution_count": 24,
   "metadata": {},
   "outputs": [],
   "source": [
    "def get_html_content(html_pages):\n",
    "    \"\"\"\n",
    "    Extracts title, body, and list items (bullets) from HTML job postigs.\n",
    "    Returns a pandas dataframe with separate columns for title, body, and bullet items.S\n",
    "    \"\"\"\n",
    "    html_sections = []\n",
    "    html_dict = {}\n",
    "    for key in ['title', 'body', 'bullets']:\n",
    "        html_dict[key] = []\n",
    "\n",
    "    for html in html_content:\n",
    "        soup = bs(html, 'lxml')\n",
    "        title = soup.find('title').text\n",
    "        body = soup.find('body').text\n",
    "        bullets = soup.find_all('li')\n",
    "        html_dict['title'].append(title)\n",
    "        html_dict['body'].append(body)\n",
    "        # remove extra leading and trailing whitespace with strip()\n",
    "        html_dict['bullets'].append([b.text.strip() for b in bullets])\n",
    "    \n",
    "    df = pd.DataFrame(html_dict)\n",
    "    \n",
    "    return df"
   ]
  },
  {
   "cell_type": "code",
   "execution_count": 27,
   "metadata": {},
   "outputs": [
    {
     "data": {
      "text/html": [
       "<div>\n",
       "<style scoped>\n",
       "    .dataframe tbody tr th:only-of-type {\n",
       "        vertical-align: middle;\n",
       "    }\n",
       "\n",
       "    .dataframe tbody tr th {\n",
       "        vertical-align: top;\n",
       "    }\n",
       "\n",
       "    .dataframe thead th {\n",
       "        text-align: right;\n",
       "    }\n",
       "</style>\n",
       "<table border=\"1\" class=\"dataframe\">\n",
       "  <thead>\n",
       "    <tr style=\"text-align: right;\">\n",
       "      <th></th>\n",
       "      <th>title</th>\n",
       "      <th>body</th>\n",
       "      <th>bullets</th>\n",
       "    </tr>\n",
       "  </thead>\n",
       "  <tbody>\n",
       "    <tr>\n",
       "      <td>0</td>\n",
       "      <td>Quantitative Analyst - Boston, MA 02116</td>\n",
       "      <td>Quantitative Analyst - Boston, MA 02116\\nQuant...</td>\n",
       "      <td>[]</td>\n",
       "    </tr>\n",
       "    <tr>\n",
       "      <td>1</td>\n",
       "      <td>Data Scientist - Mountain View, CA</td>\n",
       "      <td>Data Scientist - Mountain View, CA\\nGroundTrut...</td>\n",
       "      <td>[Help senior members of the team to explore, d...</td>\n",
       "    </tr>\n",
       "    <tr>\n",
       "      <td>2</td>\n",
       "      <td>Data Scientist - Seattle, WA</td>\n",
       "      <td>Data Scientist - Seattle, WA\\nA Bachelor or Ma...</td>\n",
       "      <td>[A Bachelor or Masters Degree in a highly quan...</td>\n",
       "    </tr>\n",
       "    <tr>\n",
       "      <td>3</td>\n",
       "      <td>Senior Natural Language Processing (NLP) Engin...</td>\n",
       "      <td>Senior Natural Language Processing (NLP) Engin...</td>\n",
       "      <td>[Join a small team creating a proprietary NLU ...</td>\n",
       "    </tr>\n",
       "    <tr>\n",
       "      <td>4</td>\n",
       "      <td>FLEXO FOLDER GLUER OPER - McClellan, CA - McCl...</td>\n",
       "      <td>FLEXO FOLDER GLUER OPER - McClellan, CA - McCl...</td>\n",
       "      <td>[]</td>\n",
       "    </tr>\n",
       "  </tbody>\n",
       "</table>\n",
       "</div>"
      ],
      "text/plain": [
       "                                               title  \\\n",
       "0            Quantitative Analyst - Boston, MA 02116   \n",
       "1                 Data Scientist - Mountain View, CA   \n",
       "2                       Data Scientist - Seattle, WA   \n",
       "3  Senior Natural Language Processing (NLP) Engin...   \n",
       "4  FLEXO FOLDER GLUER OPER - McClellan, CA - McCl...   \n",
       "\n",
       "                                                body  \\\n",
       "0  Quantitative Analyst - Boston, MA 02116\\nQuant...   \n",
       "1  Data Scientist - Mountain View, CA\\nGroundTrut...   \n",
       "2  Data Scientist - Seattle, WA\\nA Bachelor or Ma...   \n",
       "3  Senior Natural Language Processing (NLP) Engin...   \n",
       "4  FLEXO FOLDER GLUER OPER - McClellan, CA - McCl...   \n",
       "\n",
       "                                             bullets  \n",
       "0                                                 []  \n",
       "1  [Help senior members of the team to explore, d...  \n",
       "2  [A Bachelor or Masters Degree in a highly quan...  \n",
       "3  [Join a small team creating a proprietary NLU ...  \n",
       "4                                                 []  "
      ]
     },
     "execution_count": 27,
     "metadata": {},
     "output_type": "execute_result"
    }
   ],
   "source": [
    "df = get_html_content(html_content)\n",
    "df.head()"
   ]
  },
  {
   "cell_type": "code",
   "execution_count": 28,
   "metadata": {},
   "outputs": [
    {
     "data": {
      "text/plain": [
       "(1337, 3)"
      ]
     },
     "execution_count": 28,
     "metadata": {},
     "output_type": "execute_result"
    }
   ],
   "source": [
    "df.shape"
   ]
  },
  {
   "cell_type": "code",
   "execution_count": 29,
   "metadata": {},
   "outputs": [
    {
     "data": {
      "text/plain": [
       "(1328, 3)"
      ]
     },
     "execution_count": 29,
     "metadata": {},
     "output_type": "execute_result"
    }
   ],
   "source": [
    "#create a tuple to remove duplicates from list\n",
    "df['bullets'] = df['bullets'].apply(tuple, 1)\n",
    "df.drop_duplicates(inplace=True)\n",
    "\n",
    "df.shape"
   ]
  },
  {
   "cell_type": "code",
   "execution_count": 31,
   "metadata": {},
   "outputs": [],
   "source": [
    "#saving the data set created in the data folder\n",
    "df.to_pickle('../step1_df.pk')"
   ]
  },
  {
   "cell_type": "code",
   "execution_count": null,
   "metadata": {},
   "outputs": [],
   "source": []
  }
 ],
 "metadata": {
  "kernelspec": {
   "display_name": "Python 3",
   "language": "python",
   "name": "python3"
  },
  "language_info": {
   "codemirror_mode": {
    "name": "ipython",
    "version": 3
   },
   "file_extension": ".py",
   "mimetype": "text/x-python",
   "name": "python",
   "nbconvert_exporter": "python",
   "pygments_lexer": "ipython3",
   "version": "3.7.4"
  }
 },
 "nbformat": 4,
 "nbformat_minor": 2
}
